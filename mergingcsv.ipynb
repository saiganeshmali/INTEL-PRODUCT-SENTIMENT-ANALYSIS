{
 "cells": [
  {
   "cell_type": "code",
   "execution_count": 1,
   "metadata": {},
   "outputs": [
    {
     "name": "stdout",
     "output_type": "stream",
     "text": [
      "Data has been merged into merged_amazon_reviews.csv\n"
     ]
    }
   ],
   "source": [
    "import pandas as pd\n",
    "import os\n",
    "\n",
    "# List of CSV files to merge (replace with your actual file paths)\n",
    "csv_files = [\"amazon_reviews.csv\", \"amazon_reviewsi5.csv\", \"amazon_reviewsi7.csv\",\"amazon_reviewsi3.csv\",\"amazon_reviewsi310.csv\",\"amazon_reviews_1912.csv\"]\n",
    "\n",
    "# Read each CSV file into a pandas DataFrame and add to a list\n",
    "dataframes = [pd.read_csv(file) for file in csv_files]\n",
    "\n",
    "# Concatenate all DataFrames\n",
    "merged_df = pd.concat(dataframes, ignore_index=True)\n",
    "\n",
    "# Output file name\n",
    "output_file = \"merged_amazon_reviews.csv\"\n",
    "\n",
    "# Save the merged DataFrame to a CSV file\n",
    "merged_df.to_csv(output_file, index=False)\n",
    "\n",
    "print(f\"Data has been merged into {output_file}\")\n"
   ]
  },
  {
   "cell_type": "code",
   "execution_count": null,
   "metadata": {},
   "outputs": [],
   "source": []
  }
 ],
 "metadata": {
  "kernelspec": {
   "display_name": "Python 3",
   "language": "python",
   "name": "python3"
  },
  "language_info": {
   "codemirror_mode": {
    "name": "ipython",
    "version": 3
   },
   "file_extension": ".py",
   "mimetype": "text/x-python",
   "name": "python",
   "nbconvert_exporter": "python",
   "pygments_lexer": "ipython3",
   "version": "3.12.3"
  }
 },
 "nbformat": 4,
 "nbformat_minor": 2
}
